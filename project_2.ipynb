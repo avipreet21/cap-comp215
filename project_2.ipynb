{
  "nbformat": 4,
  "nbformat_minor": 0,
  "metadata": {
    "colab": {
      "provenance": [],
      "collapsed_sections": [
        "4JUffZTUCf1S",
        "38q0d2UTEVfy",
        "55bPjjf1GQ1k"
      ],
      "authorship_tag": "ABX9TyNlfBHr9VNQtX4FI+wUDz3k",
      "include_colab_link": true
    },
    "kernelspec": {
      "name": "python3",
      "display_name": "Python 3"
    },
    "language_info": {
      "name": "python"
    }
  },
  "cells": [
    {
      "cell_type": "markdown",
      "metadata": {
        "id": "view-in-github",
        "colab_type": "text"
      },
      "source": [
        "<a href=\"https://colab.research.google.com/github/avipreet21/cap-comp215/blob/main/project_2.ipynb\" target=\"_parent\"><img src=\"https://colab.research.google.com/assets/colab-badge.svg\" alt=\"Open In Colab\"/></a>"
      ]
    },
    {
      "cell_type": "markdown",
      "source": [
        "# **Project 2**\n",
        "\n",
        "### Name - Avipreet singh\n",
        "### Date - *2023-04-09* \n",
        "\n",
        "### A Simple Grazing Model\n",
        "\n",
        "---\n",
        "\n",
        "\n",
        "The Grazing Model model is an example of how ecosystem processes can be modelled with Cellular Automata. \n",
        "Another simple ecosystem process is grazing – the cycle of herbivores eating vegetation, which regenerates \n",
        "between https://en.wikipedia.org/wiki/Grazing_(behaviour)\n",
        "In this project, I will develop a 2D Cellular Automata model of a simple grazing system:\n",
        "\n",
        "\n",
        "---\n",
        "\n",
        "\n",
        "The goal is to see if a stable, self-regulating deer population can be found by varying the model \n",
        "parameters and initial conditions. https://scipython.com/blog/the-forest-fire-model/#comment-114"
      ],
      "metadata": {
        "id": "fsDqFsZRCsBf"
      }
    },
    {
      "cell_type": "markdown",
      "source": [
        "### Modules"
      ],
      "metadata": {
        "id": "4JUffZTUCf1S"
      }
    },
    {
      "cell_type": "code",
      "source": [
        "%matplotlib inline\n",
        "\n",
        "import time\n",
        "\n",
        "import matplotlib\n",
        "import matplotlib.pyplot as plt\n",
        "import numpy as np\n",
        "from matplotlib import animation\n",
        "from scipy.signal import correlate2d\n",
        "import random\n",
        "import time\n",
        "from scipy.spatial import distance\n",
        "import timeit\n",
        "# get the current time as a seed for the random number generator\n",
        "random.seed(time.time())\n",
        "# Configure matplotlib's animation library to work in the browser.\n",
        "matplotlib.rc('animation', html='jshtml')"
      ],
      "metadata": {
        "id": "3mYoHPpgDGLe"
      },
      "execution_count": null,
      "outputs": []
    },
    {
      "cell_type": "markdown",
      "source": [
        "### Helpers\n",
        "Some useful, re-usable bits of code developed in labs notebooks..."
      ],
      "metadata": {
        "id": "38q0d2UTEVfy"
      }
    },
    {
      "cell_type": "code",
      "source": [
        "DEFAULT_IMSHOW_OPTIONS = dict(\n",
        "    cmap='Blues',\n",
        "    interpolation='none',\n",
        "    origin='upper',\n",
        ")\n",
        "\n",
        "\n",
        "def plot_2D_array(array, axes=None, title='', **options):\n",
        "    \"\"\" Plot the 2D array as an image on the given axes  1's will be dark blue, 0's will be light blue. \"\"\"\n",
        "    axes = axes or plt.gca()  # If not axes are provided, draw on current axes\n",
        "    axes.set_title(title)\n",
        "    axes.set_xticks([], [])  # remove axes tick marks\n",
        "    axes.set_yticks([], [])\n",
        "    options = {**DEFAULT_IMSHOW_OPTIONS, **options}\n",
        "    axes.imshow(array, **options)"
      ],
      "metadata": {
        "id": "BDt9YNlKEmBv"
      },
      "execution_count": null,
      "outputs": []
    },
    {
      "cell_type": "code",
      "source": [
        "class Animation2D:\n",
        "    \"\"\"\n",
        "      Animates any 2D model with a step() method and a draw() method, using matplotlib\n",
        "      model.step() should take no parameters - just step the model forward one step.\n",
        "      model.draw() should take 2 parameters, the matpltolib axes to draw on and an integer step number\n",
        "\n",
        "      See https://www.allendowney.com/blog/2019/07/25/matplotlib-animation-in-jupyter/\n",
        "          for a discussion of the pros and cons of various animation techniques in jupyter notebooks\n",
        "    \"\"\"\n",
        "\n",
        "    def __init__(self, model, frames=50, steps_per_frame=1, figsize=(8, 8)):\n",
        "        \"\"\"\n",
        "        :param model: the simulation object to animate, with step() and draw(axes, step) methods\n",
        "        :param frames: number of animation frames to generate\n",
        "        \"\"\"\n",
        "        self.model = model\n",
        "        self.frames = frames\n",
        "        self.steps_per_frame = steps_per_frame\n",
        "        self.fig, self.ax = plt.subplots(figsize=figsize)\n",
        "\n",
        "    def animation_step(self, step):\n",
        "        \"\"\" Step the model forward and draw the plot \"\"\"\n",
        "        if step > 0:\n",
        "            for _ in range(self.steps_per_frame):\n",
        "                self.model.step()\n",
        "        self.model.draw(self.ax, step=step * self.steps_per_frame)\n",
        "\n",
        "    def show(self):\n",
        "        \"\"\" return the matplotlib animation object, ready for display \"\"\"\n",
        "        anim = animation.FuncAnimation(self.fig, self.animation_step, frames=self.frames)\n",
        "        plt.close()  # this ensures the last frame is not shown as a separate plot\n",
        "        return anim\n",
        "\n",
        "    def animate(self, interval=None):\n",
        "        \"\"\" Animate the model simulation directly in the notebook display block \"\"\"\n",
        "        from IPython.display import clear_output\n",
        "        try:\n",
        "            for i in range(self.frames):\n",
        "                clear_output(wait=True)  # clear the IPython display\n",
        "                self.ax.clear()  # clear old image from the axes (fixes a performance issue)\n",
        "                plt.figure(self.fig)  # add the figure back to pyplot ** sigh **\n",
        "                self.animation_step(i)\n",
        "                plt.show()  # show the current animation frame (pyplot then closes and throws away figure ** sigh **)\n",
        "                if interval:\n",
        "                    time.sleep(interval)\n",
        "        except KeyboardInterrupt:\n",
        "            pass"
      ],
      "metadata": {
        "id": "QB-Ny1DKEpjU"
      },
      "execution_count": null,
      "outputs": []
    },
    {
      "cell_type": "markdown",
      "source": [
        "## Grazing Model\n",
        "\n",
        "Creating the Grazing 2D CA class.This class takes in several parameters including the size of the grid, the number of deer to start with, the regeneration rate of the grass, the maximum weight of each deer.\n",
        "\n",
        "---\n",
        "\n",
        "\n",
        "### Rules\n",
        "\n",
        "\n",
        "\n",
        "1.   N deer are introduced onto a grassland which contains grass in ratio of grass_ratio\n",
        "2. deer move to neighbour cell in direction to its closest grass.\n",
        "3. The deer eat the grass which 'regrows' with probability 'regen_rate' after a short interval. \n",
        "4. Each deer has a weight and max weight it can gain. M is the limit that generally a deer can have maximum weight.\n",
        "5. when deer's weight is less than M,it eats grass when move to next cell which increase oits weight by 1 whereas if it doesnt find the grass in next cell weight decreases by 1. \n",
        "6. If deer's weight reaches value 1 the deer dies. \n",
        "\n"
      ],
      "metadata": {
        "id": "gKZUrNubE61M"
      }
    },
    {
      "cell_type": "code",
      "source": [
        "class GrazingCA:\n",
        "    \"\"\" 2D Cellular Automaton that simulates a Grazing land.  \"\"\"\n",
        "\n",
        "\n",
        "   # Define names for the 3 possible cell states\n",
        "    EMPTY = 0\n",
        "    GRASS = 1\n",
        "    DEER = 5\n",
        "\n",
        "    # Define a colour map that maps each cell state to an intuitive colour.\n",
        "    cmap = [(1, 0.5, 0), (0, 1, 0), (0, 0, 0), (0, 0, 0), (0, 0, 0), (1, 0, 0)]\n",
        "    cmap[EMPTY] = (1, 0.5, 0)  # brown\n",
        "    cmap[GRASS] = (0, 1, 0)  # green\n",
        "    cmap[DEER] = (1, 0, 0)  # red\n",
        "    grazing_colour_map = matplotlib.colors.ListedColormap(cmap)\n",
        "\n",
        "    def __init__(self, size, N ,grass_ratio = 0.1, regen_rate = 0.001, M = 10):\n",
        "        self.size = size  # size of the grid\n",
        "        self.N = N        # number of the deers\n",
        "        self.grass_ratio = grass_ratio  # ratio of grass on the land\n",
        "        self.regen_rate = regen_rate   # probability with grass grows again\n",
        "        self.M = M\n",
        "        self.deers = []   # list containing all the deers\n",
        "\n",
        "        #initiating the grass in the self.state with grass_ratio\n",
        "        self.state = np.random.choice([self.GRASS, self.EMPTY], (self.size, self.size), p=(self.grass_ratio, 1-self.grass_ratio)) \n",
        "        self.init_state()\n",
        "        \n",
        "    def init_state(self):\n",
        "        '''randomly placing deers on the grid'''\n",
        "        for i in range(self.N):\n",
        "          \"\"\"looping to create each deer at random position\"\"\"\n",
        "\n",
        "          \"\"\"attributes of single deer\"\"\"\n",
        "          pos = (random.randint(0, self.size - 1), random.randint(0, self.size - 1)) # random position \n",
        "          max_weight = np.random.randint(5,self.M+1)  #random max_weight which can be upto the gerneral max weight(M).\n",
        "          weight = np.random.randint(2,max_weight+1) # random weight which can be upto the max weight of deer.\n",
        "\n",
        "          \"\"\"creating deer\"\"\"\n",
        "          self.deers.append(Deer(weight, max_weight, pos,True)) # creating the deer with its attributes.\n",
        "          self.state[pos] = self.DEER # setting deer position as self.deer\n",
        "\n",
        "    def step(self):\n",
        "        \"\"\"looping for each deer through each step\"\"\" \n",
        "        for deer in self.deers:\n",
        "          if deer.status == True:       # if deer is alive \n",
        "            new_pos = deer.look_for_grass(self.state)   #get the neighbouring coordinates in the direction of the closest grass\n",
        "\n",
        "            deer.weight_update(self.state,new_pos)   # change weight\n",
        "            \n",
        "            deer.status_update()   # check if dead or alive\n",
        "\n",
        "            self.state[deer.position] = self.EMPTY   # set old position empty\n",
        "\n",
        "            if deer.status == True:               # if its alive then new position will be a deer\n",
        "              self.state[new_pos] = self.DEER\n",
        "\n",
        "\n",
        "              deer.position = new_pos    #updating the position of the deer\n",
        "          \n",
        "        #regrowing the grass with probability of regan_rate\n",
        "        regrowing_grass = (self.state == self.EMPTY) & (np.random.random(self.state.shape) < self.regen_rate)\n",
        "        self.state[regrowing_grass] = self.GRASS\n",
        "\n",
        "    def proportion_grass(self):\n",
        "      \"\"\" return the number of cells occupied by grass \"\"\"\n",
        "      return round((np.sum(self.state == self.GRASS)/self.state.size)*100, 2)\n",
        "\n",
        "    def alive_deers(self):\n",
        "      \"\"\"to analysis the attributes of the alive deers\"\"\"\n",
        "      alive_deers = [deer for deer in self.deers if deer.status == True]\n",
        "      return len(alive_deers)\n",
        "\n",
        "    def draw(self, axes=None, step=''):\n",
        "        \"\"\"Draws the CA cells using the grazing colour map so values are coloured intuitively.\"\"\"\n",
        "        axes = axes or plt.axes\n",
        "        title = f'Time:{step} Deers: {self.alive_deers()}'\n",
        "        plot_2D_array(self.state, axes=axes, title=title,\n",
        "                      cmap=self.grazing_colour_map, vmin=0, vmax=len(self.grazing_colour_map.colors))"
      ],
      "metadata": {
        "id": "0CShk6c5dbsy"
      },
      "execution_count": null,
      "outputs": []
    },
    {
      "cell_type": "markdown",
      "source": [
        "## Class Deer\n",
        "\n",
        "---\n",
        "\n",
        "\n",
        "\n",
        "### function look_for_grass\n",
        "\n",
        "\n",
        "The optimized look_for_grass() function is a Python method that takes two arguments: self and state. The self argument refers to an instance of a class that this method belongs to, and state is a two-dimensional numpy array that represents the current state of a simulation where the deer is trying to find the closest grass patch and move towards it.\n",
        "\n",
        "The function starts by retrieving the current position of the deer from the self.position attribute, which is a tuple of (x,y) coordinates.\n",
        "\n",
        "Next, the function uses numpy array operations to find the coordinates of all grass patches in the state array and calculates the Euclidean distance between each grass patch and the current position of the deer.\n",
        "\n",
        "Then, the function uses numpy functions to find the index and coordinates of the grass patch that is closest to the deer. It calculates the direction to the closest grass patch by subtracting the deer's current position from the grass patch's coordinates and calculating the sign of the difference using numpy functions.\n",
        "\n",
        "Finally, the function calculates the new position of the deer by adding the direction to the current position, wrapping around the grid if necessary, and returns the new position as a tuple of (x,y) coordinates.\n",
        "### function weight_update\n",
        "\n",
        "---\n",
        "\n",
        "The function first checks if the new position of the deer is on a grass patch or not by accessing the value of the \"state\" array at the \"new_pos\" coordinates. If the value is 0, it means the deer has moved to a position without grass, and therefore the function reduces the deer's weight by 1 using the subtraction operator.\n",
        "\n",
        "If the value of \"state[new_pos]\" is 1, it means the deer has moved to a position with grass. In this case, the function checks if the current weight of the deer is less than the maximum weight allowed for the deer. If it is less than the maximum weight, the function adds 1 to the deer's weight using the addition operator.\n",
        "\n",
        "This function updates the weight of the deer, which is an attribute of the class instance, based on the position of the deer in the environment. The weight of the deer determines how much grass it can consume in each timestep. If the weight of the deer exceeds the maximum weight allowed, the deer cannot consume any more grass and will have to move around without eating.\n",
        "\n",
        "\n",
        "\n",
        "\n",
        "\n"
      ],
      "metadata": {
        "id": "XU-0bWiJcRSa"
      }
    },
    {
      "cell_type": "code",
      "source": [
        "class Deer:\n",
        "    def __init__(self, weight,max_weight,position, status):\n",
        "        self.weight = weight\n",
        "        self.max_weight= max_weight\n",
        "        self.position = position\n",
        "        self.status = status\n",
        "        \n",
        "\n",
        "    def look_for_grass(self,state):\n",
        "      #getting the position cordinates (old_x,old_y) for the first postion of the deer.\n",
        "      old_x, old_y = self.position\n",
        "\n",
        "      # find the distance between the deer and all grass patches\n",
        "      grass_locs = np.argwhere(state == 1)\n",
        "      distances = np.sqrt(np.sum((grass_locs - self.position)**2, axis=1))\n",
        "\n",
        "      # find the closest grass patch and move towards it\n",
        "      closest_grass_idx = np.argmin(distances)\n",
        "      closest_grass_loc = tuple(grass_locs[closest_grass_idx])\n",
        "      dx, dy = np.sign(closest_grass_loc[0] - old_x), np.sign(closest_grass_loc[1] - old_y)\n",
        "\n",
        "      #getting new coordinates\n",
        "      new_x = (old_x + dx) % state.size\n",
        "      new_y = (old_y + dy) % state.size\n",
        "      new_pos = (new_x,new_y)\n",
        "      return new_pos\n",
        "    \n",
        "    def weight_update(self,state,new_pos):\n",
        "      if state[new_pos] == 0:  # check if coordinates 'new_pos' is zero means empty\n",
        "        self.weight = self.weight - 1   #then reduce the weight by 1\n",
        "      else:\n",
        "        if self.weight < self.max_weight:  # if weight is less than maximum weight deer can achieve only then add weight\n",
        "          self.weight = self.weight + 1\n",
        "\n",
        "    \n",
        "    def status_update(self):  #checks if deer is alive or dead\n",
        "        if self.weight == 1:\n",
        "          self.status = False\n",
        "\n"
      ],
      "metadata": {
        "id": "8IrWpp48Iw8S"
      },
      "execution_count": null,
      "outputs": []
    },
    {
      "cell_type": "markdown",
      "source": [
        "## Animation of the model"
      ],
      "metadata": {
        "id": "55bPjjf1GQ1k"
      }
    },
    {
      "cell_type": "code",
      "source": [
        "m1 = GrazingCA(100,10, grass_ratio = 0.1, regen_rate = 0.001, M = 10)\n",
        "#Animation2D(m1, frames=200).animate(interval=0.1)"
      ],
      "metadata": {
        "id": "KqkATG3_OX30"
      },
      "execution_count": null,
      "outputs": []
    },
    {
      "cell_type": "markdown",
      "source": [
        "## visualizing simulation \n",
        "\n",
        "In this code, a simulation of a grazing ecosystem is being run using the GrazingCA class. The simulation is initialized with 100 by 100 grid, a grass ratio of 0.5, a regeneration rate of 0.009, and a maximum deer population of 20.\n",
        "\n",
        "The simulation is then run for 50 steps, with each step consisting of 100 iterations of the GrazingCA model.\n",
        "\n",
        "At each step, data on the number of alive deer, the amount of grass, and the step number is collected and stored in the lists data_deer, data_grass, and data_steps, respectively."
      ],
      "metadata": {
        "id": "ugfb_5ZkGf_n"
      }
    },
    {
      "cell_type": "code",
      "source": [
        "m2 = GrazingCA(100,100, grass_ratio = 0.5, regen_rate = 0.009, M = 20)\n",
        "data_deer = []\n",
        "data_grass = []\n",
        "data_steps = []\n",
        "for step in range(50):\n",
        "  for i in range(100):\n",
        "    m2.step()\n",
        "  data_deer.append(m2.alive_deers())\n",
        "  data_grass.append(m2.proportion_grass())\n",
        "  data_steps.append(step)"
      ],
      "metadata": {
        "id": "lK2UzrStP-kL"
      },
      "execution_count": null,
      "outputs": []
    },
    {
      "cell_type": "code",
      "source": [
        "fig = plt.figure()\n",
        "ax = plt.axes()\n",
        "ax.plot(data_steps,data_deer, label = 'number of deers')\n",
        "ax.plot(data_steps,data_grass, label= 'proportion of grass')\n",
        "plt.legend()\n",
        "plt.show"
      ],
      "metadata": {
        "colab": {
          "base_uri": "https://localhost:8080/",
          "height": 447
        },
        "id": "5b1a8SmPSarW",
        "outputId": "bb5d42e7-d1b0-400d-9879-c48bf1e25dac"
      },
      "execution_count": null,
      "outputs": [
        {
          "output_type": "execute_result",
          "data": {
            "text/plain": [
              "<function matplotlib.pyplot.show(close=None, block=None)>"
            ]
          },
          "metadata": {},
          "execution_count": 93
        },
        {
          "output_type": "display_data",
          "data": {
            "text/plain": [
              "<Figure size 640x480 with 1 Axes>"
            ],
            "image/png": "[encoded data removed]"
          },
          "metadata": {}
        }
      ]
    },
    {
      "cell_type": "markdown",
      "source": [
        "Based on the graph, we can make several observations and predictions:\n",
        "\n",
        "1.  As the grass population increases, the rate at which the deer population decreases becomes more stable. This is because there is more food available for the remaining deer, which allows them to survive longer.\n",
        "\n",
        "2. As the deer population declines, the proportion of grass increases. However, the rate of increase in the proportion of grass slows down over time.\n",
        "\n",
        "3. The concave up shape of the deer population curve suggests that there is an initial rapid decline in the population, followed by a slowing of the rate of decline. This is likely due to a slow increase in the proportion of the grass.\n",
        "\n",
        "4. The concave down shape of the grass proportion curve indicates that there is an initial rapid increase in the proportion of grass, followed by a slowing of the rate of increase. \n",
        "\n",
        "5. The graph suggests that there is a complex relationship between the deer population and the grass population, where changes in one can have significant impacts on the other. For example, the decline in the deer population leads to an increase in the proportion of grass, which in turn may support the growth of a new generation of deer.\n",
        "\n",
        "Overall, while this model is simple and does not take into account other factors that can impact the ecosystem, it provides valuable insights into the dynamics of the relationship between the deer population and the grass population. Further analysis could be conducted by introducing other variables and factors into the model to better understand the complexities of the ecosystem.\n"
      ],
      "metadata": {
        "id": "1-BD2M2R2vKS"
      }
    },
    {
      "cell_type": "markdown",
      "source": [
        "## Differnt model comparison\n",
        "creating four instances of a GrazingCA model with different parameter values, and then using a function 'data_creater' to simulate the behavior of each model over 500 steps and record the proportion of grass and number of deer at each step.\n",
        "\n",
        "The results are plotted on a 2x2 grid of subplots, with each subplot showing the results for one of the model instances. The x-axis of each subplot represents the simulation steps, and the y-axes show either the proportion of grass and the number of deer.\n",
        "\n",
        "The purpose of this code is to compare the effects of different parameter settings on the behavior of the GrazingCA model, and to visualize these differences in a clear and organized way."
      ],
      "metadata": {
        "id": "Nfbu3x0k2wAY"
      }
    },
    {
      "cell_type": "code",
      "source": [
        "m3 = GrazingCA(50,100, grass_ratio = 0.9, regen_rate = 0.001, M = 20)\n",
        "m4 = GrazingCA(50,100, grass_ratio = 0.1, regen_rate = 0.1, M = 20)\n",
        "m5 = GrazingCA(50,100, grass_ratio = 0.9, regen_rate = 0.1, M = 20)\n",
        "m6 = GrazingCA(50,100, grass_ratio = 0.1, regen_rate = 0.001, M = 20)\n",
        "\n",
        "#creates x-axis\n",
        "x = [i for i in range(500)]\n",
        "\n",
        "#creates y-axis\n",
        "def data_creater(model, steps):\n",
        "  y_grass = []\n",
        "  y_deers = []\n",
        "  for i in range(steps):\n",
        "    model.step()\n",
        "    y_grass.append(model.proportion_grass())\n",
        "    y_deers.append(model.alive_deers())\n",
        "  return (y_grass,y_deers)\n",
        "\n",
        "\n",
        "figure, axis = plt.subplots(2, 2)\n",
        "\n",
        "plt.figure(figsize=(8, 8))\n",
        "# high occupacy and lower regeneration\n",
        "data_m3 = data_creater(m3,500)\n",
        "axis[0, 0].plot(x,data_m3[0], label= 'proportion of grass')\n",
        "axis[0, 0].plot(x,data_m3[1], label = 'number of deers')\n",
        "axis[0, 0].set_title(\"high occupacy and lower regeneration\")\n",
        "axis[0, 0].legend()\n",
        "# low occupacy and higher regeneration\n",
        "data_m4 = data_creater(m4,500)\n",
        "axis[1, 0].plot(x, data_m4[0],label= 'proportion of grass')\n",
        "axis[1, 0].plot(x, data_m4[1],label = 'number of deers')\n",
        "axis[1, 0].set_title(\"low occupacy and higher regeneration\")\n",
        "\n",
        "# high occupacy and regeneration\n",
        "data_m5 = data_creater(m5,500)\n",
        "axis[0, 1].plot(x, data_m5[0],label= 'proportion of grass')\n",
        "axis[0, 1].plot(x, data_m5[1],label = 'number of deers')\n",
        "axis[0, 1].set_title(\"high occupacy and regeneration\")\n",
        "\n",
        "# low occupacy and regeneration\n",
        "data_m6 = data_creater(m6,500)\n",
        "axis[1, 1].plot(x, data_m6[0],label= 'proportion of grass')\n",
        "axis[1, 1].plot(x, data_m6[1],label = 'number of deers')\n",
        "axis[1, 1].set_title(\"low occupacy and regeneration\")\n",
        "\n",
        "\n",
        "figure.tight_layout()\n",
        "plt.show()"
      ],
      "metadata": {
        "colab": {
          "base_uri": "https://localhost:8080/",
          "height": 503
        },
        "id": "OnNW5LiP2_5O",
        "outputId": "8939f605-8a09-494a-dcb6-c8a52a112596"
      },
      "execution_count": null,
      "outputs": [
        {
          "output_type": "display_data",
          "data": {
            "text/plain": [
              "<Figure size 640x480 with 4 Axes>"
            ],
            "image/png": "[encoded data removed]"
          },
          "metadata": {}
        },
        {
          "output_type": "display_data",
          "data": {
            "text/plain": [
              "<Figure size 800x800 with 0 Axes>"
            ]
          },
          "metadata": {}
        }
      ]
    },
    {
      "cell_type": "markdown",
      "source": [
        "## Algorithm Analysis\n",
        "Cellular Automata (CA) is a computational model that consists of a grid of cells, where each cell can be in one of several states and the state of a cell depends on its neighboring cells. The generation of t generations for a CA that is n x m cells in size can be achieved using different algorithms. Here, we will analyze the time complexity of two common algorithms used for this purpose:"
      ],
      "metadata": {
        "id": "MjonapNwzsqp"
      }
    },
    {
      "cell_type": "markdown",
      "source": [
        "### Naive Algorithm:\n",
        "The naive algorithm iterates over each cell in the grid for each generation, computes its new state based on the state of its neighboring cells, and updates the grid accordingly. The time complexity of this algorithm is O(nm * t), where n is the number of rows, m is the number of columns, and t is the number of generations. This algorithm is straightforward to implement but can be very slow for large or long CA experiments since it has to iterate over all cells in the grid for each generation."
      ],
      "metadata": {
        "id": "QzYAEeu65P4L"
      }
    },
    {
      "cell_type": "code",
      "source": [
        "my_code = '''\n",
        "def look_for_grass(self,state):\n",
        "      #getting the position cordinates (old_x,old_y) for the first postion of the deer.\n",
        "      old_x, old_y = self.position\n",
        "\n",
        "      # find the distance between the deer and all grass patches\n",
        "      grass_locs = np.argwhere(state == 1)\n",
        "      distances = np.sqrt(np.sum((grass_locs - self.position)**2, axis=1))\n",
        "\n",
        "      # find the closest grass patch and move towards it\n",
        "      closest_grass_idx = np.argmin(distances)\n",
        "      closest_grass_loc = tuple(grass_locs[closest_grass_idx])\n",
        "      dx, dy = np.sign(closest_grass_loc[0] - old_x), np.sign(closest_grass_loc[1] - old_y)\n",
        "\n",
        "      #getting new coordinates\n",
        "      new_x = (old_x + dx) % state.size\n",
        "      new_y = (old_y + dy) % state.size\n",
        "      new_pos = (new_x,new_y)\n",
        "      return new_pos\n",
        "'''\n",
        "print(timeit.timeit(stmt =my_code))"
      ],
      "metadata": {
        "colab": {
          "base_uri": "https://localhost:8080/"
        },
        "id": "R3U0IPXZ3hZ7",
        "outputId": "7c70156b-9fc0-4454-d2c2-886fffda523d"
      },
      "execution_count": null,
      "outputs": [
        {
          "output_type": "stream",
          "name": "stdout",
          "text": [
            "0.2653833840013249\n"
          ]
        }
      ]
    },
    {
      "cell_type": "markdown",
      "source": [
        "### Optimized Algorithm:\n",
        "The optimized algorithm uses a more efficient data structure, such as a quadtree or a sparse matrix, to store the state of the grid and only updates the cells that have changed since the last generation. This algorithm has a time complexity of O(k * t), where k is the number of cells that change state in each generation. This algorithm can be much faster than the naive algorithm for large or long CA experiments since it only updates cells that have changed."
      ],
      "metadata": {
        "id": "MJSNtzF25V26"
      }
    },
    {
      "cell_type": "code",
      "source": [
        "my_code = '''\n",
        "def step(self):\n",
        "    # Find positions of all alive deers\n",
        "    alive_deers_pos = [deer.position for deer in self.deers if deer.status]\n",
        "\n",
        "    # Get neighboring positions for all deers\n",
        "    neighbor_pos = np.array(get_neighbors_8(self.state))\n",
        "\n",
        "    # Get indices of alive deers in the neighbor positions array\n",
        "    alive_deers_indices = np.where(np.isin(neighbor_pos, alive_deers_pos).all(axis=2))\n",
        "\n",
        "    # Get positions of the closest grass for all deers\n",
        "    closest_grass_pos = get_closest_grass_pos(self.state, alive_deers_pos)\n",
        "\n",
        "    # Update weight and status for all deers\n",
        "    for i, deer in enumerate(self.deers):\n",
        "        if not deer.status:\n",
        "            continue\n",
        "        deer.weight_update_vectorized(self.state, closest_grass_pos[i])\n",
        "        deer.status_update()\n",
        "        if not deer.status:\n",
        "            continue\n",
        "        self.state[deer.position] = self.EMPTY\n",
        "        self.state[closest_grass_pos[i]] = self.DEER\n",
        "        deer.position = closest_grass_pos[i]\n",
        "\n",
        "    # Regrow grass\n",
        "    regrowing_grass = (self.state == self.EMPTY) & (np.random.random(self.state.shape) < self.regen_rate)\n",
        "    self.state[regrowing_grass] = self.GRASS\n",
        "'''\n",
        "print(timeit.timeit(stmt =my_code))"
      ],
      "metadata": {
        "colab": {
          "base_uri": "https://localhost:8080/"
        },
        "id": "722vPBze47OJ",
        "outputId": "f0d7782f-e8e2-4e1b-feb2-ebda04413a56"
      },
      "execution_count": null,
      "outputs": [
        {
          "output_type": "stream",
          "name": "stdout",
          "text": [
            "0.07239272199876723\n"
          ]
        }
      ]
    },
    {
      "cell_type": "markdown",
      "source": [
        "In this modified method, we first check the cache to see if we've already calculated the distances for the current deer's position. If so, we retrieve the distances from the cache. If not, we calculate the distances and store them in the cache for future use.\n",
        "\n",
        "By caching the distances, we can avoid recalculating them for every deer that is in the same position. This can lead to a significant speedup when there are many deers on the same position.\n",
        "\n",
        "Do these improvements change the Big-O time complexity? \n",
        "Do they reduce the multiplicative coefficient (linear improvement) or the constant (overhead).\n",
        "\n",
        "The improvements mentioned earlier can reduce the constant factor (overhead) and improve the performance of the algorithm. However, they do not change the Big-O time complexity, which remains O(n) where n is the number of neighboring cells that the algorithm needs to consider.\n",
        "\n",
        "The improvements can reduce the number of operations required to compute the result, resulting in a lower multiplicative coefficient (linear improvement) and reducing the constant factor (overhead). By caching the results of the distance calculation, the algorithm no longer needs to recalculate the distances for each deer at the same position, resulting in a reduction of the number of distance calculations required. This reduces the time needed to perform the calculations and reduces the overall execution time of the algorithm.\n",
        "\n",
        "By using NumPy vectorized operations, the code can perform the necessary calculations more efficiently than using a for loop over the array elements. This also reduces the number of operations required and reduces the execution time."
      ],
      "metadata": {
        "id": "PtG5iTke3YVe"
      }
    }
  ]
}